{
 "cells": [
  {
   "cell_type": "markdown",
   "metadata": {
    "slideshow": {
     "slide_type": "-"
    }
   },
   "source": [
    "# Chapter 7 While Loop\n",
    "* The for loop takes a collection of items and executes a block of code once for each item in the collection. \n",
    "* In contrast, the while loop runs as long as, or while, a certain condition is true."
   ]
  },
  {
   "cell_type": "markdown",
   "metadata": {},
   "source": [
    "## The while Loop in Action\n",
    "You can use a while loop to count up through a series of numbers. For\n",
    "example, the following while loop counts from 1 to 5:\n"
   ]
  },
  {
   "cell_type": "code",
   "execution_count": 2,
   "metadata": {},
   "outputs": [
    {
     "name": "stdout",
     "output_type": "stream",
     "text": [
      "1\n",
      "2\n",
      "3\n",
      "4\n",
      "5\n"
     ]
    }
   ],
   "source": [
    "for i in range(1,6):\n",
    "    print(i)"
   ]
  },
  {
   "cell_type": "code",
   "execution_count": 3,
   "metadata": {},
   "outputs": [
    {
     "name": "stdout",
     "output_type": "stream",
     "text": [
      "1\n",
      "2\n",
      "3\n",
      "4\n",
      "5\n"
     ]
    }
   ],
   "source": [
    "i=1 # initialization\n",
    "while i<=5:  # condition check\n",
    "    print(i)\n",
    "    i+=1 #increment i=i+1"
   ]
  },
  {
   "cell_type": "code",
   "execution_count": null,
   "metadata": {},
   "outputs": [],
   "source": []
  },
  {
   "cell_type": "markdown",
   "metadata": {},
   "source": [
    "## Letting the User Choose When to Quit"
   ]
  },
  {
   "cell_type": "code",
   "execution_count": 9,
   "metadata": {},
   "outputs": [],
   "source": [
    "prompt=\"\\ntell me something, and I will repeat it back to you. enter \\'quit\\' to end the program: \""
   ]
  },
  {
   "cell_type": "code",
   "execution_count": 10,
   "metadata": {},
   "outputs": [
    {
     "name": "stdout",
     "output_type": "stream",
     "text": [
      "\n",
      "tell me something, and I will repeat it back to you. enter 'quit' to end the program: 1\n",
      "1\n",
      "\n",
      "tell me something, and I will repeat it back to you. enter 'quit' to end the program: 2\n",
      "2\n",
      "\n",
      "tell me something, and I will repeat it back to you. enter 'quit' to end the program: 3\n",
      "3\n",
      "\n",
      "tell me something, and I will repeat it back to you. enter 'quit' to end the program: quit\n",
      "quit\n"
     ]
    }
   ],
   "source": [
    "message=\" \"\n",
    "while message!='quit':\n",
    "    message=input(prompt)\n",
    "    print(message)"
   ]
  },
  {
   "cell_type": "markdown",
   "metadata": {},
   "source": [
    "## A Flag"
   ]
  },
  {
   "cell_type": "markdown",
   "metadata": {
    "slideshow": {
     "slide_type": "subslide"
    }
   },
   "source": [
    "### For a program that should run only as long as many conditions are true, you can define one variable that determines whether or not the entire program is active. This variable, called a `flag`, acts as a signal to the program."
   ]
  },
  {
   "cell_type": "code",
   "execution_count": 11,
   "metadata": {},
   "outputs": [],
   "source": [
    "prompt=\"\\ntell me something, and I will repeat it back to you. enter \\'quit\\' to end the program: \""
   ]
  },
  {
   "cell_type": "code",
   "execution_count": 12,
   "metadata": {},
   "outputs": [
    {
     "name": "stdout",
     "output_type": "stream",
     "text": [
      "\n",
      "tell me something, and I will repeat it back to you. enter 'quit' to end the program: 1\n",
      "1\n",
      "\n",
      "tell me something, and I will repeat it back to you. enter 'quit' to end the program: 2\n",
      "2\n",
      "\n",
      "tell me something, and I will repeat it back to you. enter 'quit' to end the program: 3\n",
      "3\n",
      "\n",
      "tell me something, and I will repeat it back to you. enter 'quit' to end the program: quit\n"
     ]
    }
   ],
   "source": [
    "# flag (two cases True or False)\n",
    "message=' '\n",
    "active=True\n",
    "while active:\n",
    "    message=input(prompt)\n",
    "    \n",
    "    if message=='quit':\n",
    "        active=False # flag\n",
    "    else:\n",
    "        print(message)\n",
    "    "
   ]
  },
  {
   "cell_type": "markdown",
   "metadata": {},
   "source": [
    "## Using break to Exit a Loop\n",
    "To exit a while loop immediately without running any remaining code in the\n",
    "loop, regardless of the results of any conditional test, use the break statement."
   ]
  },
  {
   "cell_type": "code",
   "execution_count": 17,
   "metadata": {},
   "outputs": [],
   "source": [
    "prompt=\"\\nEnter name of the cities you want to visit. Enter \\'quit\\' to exit\""
   ]
  },
  {
   "cell_type": "code",
   "execution_count": 18,
   "metadata": {},
   "outputs": [
    {
     "name": "stdout",
     "output_type": "stream",
     "text": [
      "\n",
      "Enter name of the cities you want to visit. Enter 'quit' to exitparis\n",
      "I would love to visit Paris!\n",
      "\n",
      "Enter name of the cities you want to visit. Enter 'quit' to exitjapan\n",
      "I would love to visit Japan!\n",
      "\n",
      "Enter name of the cities you want to visit. Enter 'quit' to exitquit\n"
     ]
    }
   ],
   "source": [
    "city=\" \"\n",
    "active=True\n",
    "while active:\n",
    "    city=input(prompt)\n",
    "    if city=='quit':\n",
    "        break\n",
    "    else:\n",
    "        print('I would love to visit '+ city.title()+ '!')"
   ]
  },
  {
   "cell_type": "markdown",
   "metadata": {},
   "source": [
    "### Guess the number"
   ]
  },
  {
   "cell_type": "code",
   "execution_count": 20,
   "metadata": {},
   "outputs": [
    {
     "name": "stdout",
     "output_type": "stream",
     "text": [
      "\n",
      "GGuess a number between 1 and 10: 2\n",
      "not a correct number, gues again\n",
      "\n",
      "GGuess a number between 1 and 10: 4\n",
      "not a correct number, gues again\n",
      "\n",
      "GGuess a number between 1 and 10: 5\n",
      "not a correct number, gues again\n",
      "\n",
      "GGuess a number between 1 and 10: 6\n",
      "you have guessed correctly;\n"
     ]
    }
   ],
   "source": [
    "prompt=\"\\nGGuess a number between 1 and 10: \"\n",
    "number=0\n",
    "active=True\n",
    "while active:\n",
    "    number=int(input(prompt))\n",
    "    if number==6:\n",
    "        print('you have guessed correctly;')\n",
    "        break\n",
    "    else:\n",
    "        print('not a correct number, gues again')"
   ]
  },
  {
   "cell_type": "code",
   "execution_count": null,
   "metadata": {},
   "outputs": [],
   "source": []
  },
  {
   "cell_type": "markdown",
   "metadata": {},
   "source": [
    "### Guess the number with proper direction"
   ]
  },
  {
   "cell_type": "code",
   "execution_count": 2,
   "metadata": {},
   "outputs": [
    {
     "name": "stdout",
     "output_type": "stream",
     "text": [
      "\n",
      "Enter a number between 1 and 20: 1\n",
      "guess a number bigger than the current guess\n",
      "\n",
      "Enter a number between 1 and 20: 324\n",
      "the number is invalid, enter a number between 1 and 20\n",
      "\n",
      "Enter a number between 1 and 20: 13\n",
      "guess a number smaller than the current guess\n",
      "\n",
      "Enter a number between 1 and 20: 6\n",
      "you guessed correctly\n"
     ]
    }
   ],
   "source": [
    "prompt='\\nEnter a number between 1 and 20: '\n",
    "number1=0\n",
    "active=True\n",
    "while active:\n",
    "    number1=int(input(prompt))\n",
    "    if number1<1 or number1>20:\n",
    "        print('the number is invalid, enter a number between 1 and 20')\n",
    "    elif number1==6:\n",
    "        print('you guessed correctly')\n",
    "        break\n",
    "    elif number1<6:\n",
    "        print('guess a number bigger than the current guess')\n",
    "\n",
    "    else:\n",
    "        print('guess a number smaller than the current guess')"
   ]
  },
  {
   "cell_type": "code",
   "execution_count": null,
   "metadata": {},
   "outputs": [],
   "source": []
  },
  {
   "cell_type": "markdown",
   "metadata": {},
   "source": [
    "### Break with for loop"
   ]
  },
  {
   "cell_type": "code",
   "execution_count": 6,
   "metadata": {},
   "outputs": [
    {
     "name": "stdout",
     "output_type": "stream",
     "text": [
      "0 1 2 3 4 5 6 7 8 9 10 11 12 13 14 15 16 17 18 19 20 21 22 23 24 25 26 27 28 29 30 31 32 33 34 35 36 37 38 39 "
     ]
    }
   ],
   "source": [
    "#print all the numbers between 0 and 100. the loop will break at 40\n",
    "for number in range(100):\n",
    "    if number==40:\n",
    "        break\n",
    "    print(number, end=' ')"
   ]
  },
  {
   "cell_type": "code",
   "execution_count": null,
   "metadata": {},
   "outputs": [],
   "source": []
  },
  {
   "cell_type": "markdown",
   "metadata": {},
   "source": [
    "### Using continue in a Loop\n",
    "- Rather than breaking out of a loop entirely without executing the rest of its code, \n",
    "- you can use the continue statement to return to the beginning of the loop based on the result of a conditional test. \n",
    "- For example, consider a loop that counts from 1 to 10 but prints only the odd numbers in that range:"
   ]
  },
  {
   "cell_type": "code",
   "execution_count": 12,
   "metadata": {},
   "outputs": [
    {
     "name": "stdout",
     "output_type": "stream",
     "text": [
      "1 3 5 7 9 11 "
     ]
    }
   ],
   "source": [
    "number=0\n",
    "while number<=10:\n",
    "    number+=1\n",
    "    if number%2==0:\n",
    "        continue\n",
    "    print(number, end =' ')\n",
    "   "
   ]
  },
  {
   "cell_type": "code",
   "execution_count": null,
   "metadata": {},
   "outputs": [],
   "source": []
  },
  {
   "cell_type": "markdown",
   "metadata": {},
   "source": [
    "### consider a loop (while/for) that counts from 10 to 20 but prints only the even numbers in that range, use continue statement:"
   ]
  },
  {
   "cell_type": "code",
   "execution_count": 14,
   "metadata": {},
   "outputs": [
    {
     "name": "stdout",
     "output_type": "stream",
     "text": [
      "10\n",
      "12\n",
      "14\n",
      "16\n",
      "18\n"
     ]
    }
   ],
   "source": [
    "for number in range(10,20):\n",
    "    if number%2!=0: # if the number is odd, then continue/do not print the number\n",
    "        continue\n",
    "    else:\n",
    "        print(number)"
   ]
  },
  {
   "cell_type": "code",
   "execution_count": null,
   "metadata": {},
   "outputs": [],
   "source": []
  },
  {
   "cell_type": "markdown",
   "metadata": {},
   "source": [
    "### Avoiding Infinite Loops"
   ]
  },
  {
   "cell_type": "code",
   "execution_count": null,
   "metadata": {},
   "outputs": [],
   "source": []
  },
  {
   "cell_type": "code",
   "execution_count": null,
   "metadata": {},
   "outputs": [],
   "source": []
  },
  {
   "cell_type": "markdown",
   "metadata": {},
   "source": [
    "### Movie Tickets: A movie theater charges different ticket prices depending on a person’s age. \n",
    "- If a person is under the age of 3, the ticket is free; if they are between 3 and 12, the ticket is 10 dollar\n",
    "- if they are over age 12, the ticket is 15 dollar. \n",
    "Write a while loop in which you ask users their age, and then tell them the cost of their movie ticket."
   ]
  },
  {
   "cell_type": "code",
   "execution_count": 1,
   "metadata": {},
   "outputs": [
    {
     "name": "stdout",
     "output_type": "stream",
     "text": [
      "enter your age: 2\n",
      "the entry is free for you\n",
      "enter your age: 24\n",
      "the price is $15\n",
      "enter your age: 4\n",
      "the ticket price is $10\n",
      "enter your age: -1\n"
     ]
    }
   ],
   "source": [
    "prompt='how old are you? enter -1 to quit'\n",
    "while True:\n",
    "    age=int(input('enter your age: '))\n",
    "    if age==-1:\n",
    "        break\n",
    "    elif age<3:\n",
    "        print('the entry is free for you')\n",
    "    elif age<13:\n",
    "        print('the ticket price is $10')\n",
    "    else:\n",
    "        print('the price is $15')"
   ]
  },
  {
   "cell_type": "code",
   "execution_count": null,
   "metadata": {},
   "outputs": [],
   "source": []
  },
  {
   "cell_type": "markdown",
   "metadata": {},
   "source": [
    "## Using a while Loop with Lists and Dictionaries"
   ]
  },
  {
   "cell_type": "markdown",
   "metadata": {},
   "source": [
    "### Moving Items from One List to Another"
   ]
  },
  {
   "cell_type": "code",
   "execution_count": 8,
   "metadata": {},
   "outputs": [
    {
     "name": "stdout",
     "output_type": "stream",
     "text": [
      "verifying user: Candance\n",
      "verifying user: Brian\n",
      "verifying user: Alice\n",
      "the confirmed user list:  ['candance', 'brian', 'alice']\n",
      "\n",
      "the following users are confirmed: \n",
      "Candance\n",
      "Brian\n",
      "Alice\n"
     ]
    }
   ],
   "source": [
    "#moving names from unconfirmed_user to confirmed_user\n",
    "unconfirmed_user=['alice','brian','candance']\n",
    "confirmed_user=[]\n",
    "#1. verify each user until no more unconfirmed user\n",
    "#2. move verify user into the new list called confirmed user\n",
    "while unconfirmed_user:\n",
    "    current_user=unconfirmed_user.pop()\n",
    "    \n",
    "    print('verifying user: '+current_user.title())\n",
    "    confirmed_user.append(current_user)\n",
    "print('the confirmed user list: ',confirmed_user)\n",
    "print('\\nthe following users are confirmed: ')\n",
    "\n",
    "for name in confirmed_user:\n",
    "    print(name.title())"
   ]
  },
  {
   "cell_type": "code",
   "execution_count": null,
   "metadata": {},
   "outputs": [],
   "source": []
  },
  {
   "cell_type": "markdown",
   "metadata": {},
   "source": [
    "### Removing All Instances of Specific Values from a List"
   ]
  },
  {
   "cell_type": "code",
   "execution_count": 9,
   "metadata": {},
   "outputs": [
    {
     "name": "stdout",
     "output_type": "stream",
     "text": [
      "['dog', 'cat', 'dog', 'goldfish', 'cat', 'rabbit']\n"
     ]
    }
   ],
   "source": [
    "pets=['dog','cat','dog','goldfish','cat','rabbit']\n",
    "print(pets)"
   ]
  },
  {
   "cell_type": "code",
   "execution_count": 10,
   "metadata": {},
   "outputs": [
    {
     "name": "stdout",
     "output_type": "stream",
     "text": [
      "['dog', 'dog', 'goldfish', 'rabbit']\n"
     ]
    }
   ],
   "source": [
    "#remove all cats from the list\n",
    "while 'cat' in pets:\n",
    "    pets.remove('cat')\n",
    "print(pets) #final result"
   ]
  },
  {
   "cell_type": "markdown",
   "metadata": {},
   "source": [
    "### Filling a Dictionary with User Input"
   ]
  },
  {
   "cell_type": "code",
   "execution_count": 12,
   "metadata": {},
   "outputs": [
    {
     "name": "stdout",
     "output_type": "stream",
     "text": [
      "\n",
      "what is your name? gavin\n",
      "which country do you want to visit? england\n",
      "would you like to add another person's respons(yes/no)yes\n",
      "\n",
      "what is your name? joe\n",
      "which country do you want to visit? somewhere\n",
      "would you like to add another person's respons(yes/no)no\n",
      "\n",
      "---poll result---\n",
      "Gavinwould like to visit England\n",
      "Joewould like to visit Somewhere\n"
     ]
    }
   ],
   "source": [
    "response_dict={}\n",
    "\n",
    "# flag\n",
    "polling_active= True\n",
    "while polling_active:\n",
    "    #prompt user for name (key) and response (value)\n",
    "    name=input('\\nwhat is your name? ')\n",
    "    response=input('which country do you want to visit? ')\n",
    "    response_dict[name]=response #dictionary[key]=value\n",
    "    \n",
    "    repeat=input(\"would you like to add another person's respons(yes/no)\")\n",
    "    if repeat=='no':\n",
    "        polling_active=False #break\n",
    "# poll complete show results\n",
    "print('\\n---poll result---')\n",
    "for name,response in response_dict.items():\n",
    "    print(name.title()+'would like to visit '+response.title())"
   ]
  },
  {
   "cell_type": "code",
   "execution_count": null,
   "metadata": {},
   "outputs": [],
   "source": []
  },
  {
   "cell_type": "markdown",
   "metadata": {},
   "source": [
    "## Deli: Make a list called sandwich_orders and fill it with the names of various sandwiches. \n",
    "- Then make an empty list called finished_sandwiches. \n",
    "- Loop through the list of sandwich orders and print a message for each order, such as I made your tuna sandwich. \n",
    "- As each sandwich is made, move it to the list of finished sandwiches. \n",
    "- After all the sandwiches have been made, print a message listing each sandwich that was made."
   ]
  },
  {
   "cell_type": "code",
   "execution_count": 1,
   "metadata": {},
   "outputs": [
    {
     "name": "stdout",
     "output_type": "stream",
     "text": [
      "I made your Chicken sandwich\n",
      "I made your Beef sandwich\n",
      "I made your Turkey sandwich\n",
      "I made your Ham sandwich\n",
      "the final list is:  ['chicken', 'beef', 'turkey', 'ham']\n",
      "I made a chicken sandwich\n",
      "I made a beef sandwich\n",
      "I made a turkey sandwich\n",
      "I made a ham sandwich\n"
     ]
    }
   ],
   "source": [
    "sandwich_orders=['ham','turkey','beef','chicken']\n",
    "finished_sandwiches=[]\n",
    "while sandwich_orders:\n",
    "    current_sandwich=sandwich_orders.pop()\n",
    "    print('I made your', current_sandwich.title(),'sandwich')\n",
    "    finished_sandwiches.append(current_sandwich)\n",
    "print('the final list is: ',finished_sandwiches)\n",
    "for sandwich in finished_sandwiches:\n",
    "    print('I made a',sandwich,'sandwich')"
   ]
  },
  {
   "cell_type": "code",
   "execution_count": null,
   "metadata": {},
   "outputs": [],
   "source": []
  },
  {
   "cell_type": "markdown",
   "metadata": {},
   "source": [
    "## Write a program to print n natural number in descending order using a while loop.\n"
   ]
  },
  {
   "cell_type": "code",
   "execution_count": 16,
   "metadata": {},
   "outputs": [
    {
     "name": "stdout",
     "output_type": "stream",
     "text": [
      "enter the range: 10\n",
      "10 9 8 7 6 5 4 3 2 1 "
     ]
    }
   ],
   "source": [
    "n=int(input('enter the range: '))#10\n",
    "while(n!=0):\n",
    "    print(n, end=' ')\n",
    "    n=n-1"
   ]
  },
  {
   "cell_type": "code",
   "execution_count": null,
   "metadata": {},
   "outputs": [],
   "source": []
  },
  {
   "cell_type": "markdown",
   "metadata": {},
   "source": [
    "## Factorial of a number"
   ]
  },
  {
   "cell_type": "code",
   "execution_count": 10,
   "metadata": {},
   "outputs": [
    {
     "name": "stdout",
     "output_type": "stream",
     "text": [
      "enter the value of n: 5\n",
      "5\n",
      "20\n",
      "60\n",
      "120\n",
      "120\n",
      "120\n"
     ]
    }
   ],
   "source": [
    "n=int(input('enter the value of n: '))\n",
    "fact=1\n",
    "while (n):\n",
    "    fact=fact*n\n",
    "    n=n-1\n",
    "    print(fact)\n",
    "print(fact)"
   ]
  },
  {
   "cell_type": "code",
   "execution_count": null,
   "metadata": {},
   "outputs": [],
   "source": []
  },
  {
   "cell_type": "markdown",
   "metadata": {},
   "source": [
    "## Take 10 integers from keyboard using loop and print their sum and average value on the screen"
   ]
  },
  {
   "cell_type": "code",
   "execution_count": 14,
   "metadata": {},
   "outputs": [
    {
     "name": "stdout",
     "output_type": "stream",
     "text": [
      "enter a number: 1\n",
      "enter a number: 2\n",
      "enter a number: 3\n",
      "enter a number: 4\n",
      "enter a number: 5\n",
      "enter a number: 6\n",
      "enter a number: 7\n",
      "enter a number: 8\n",
      "enter a number: 9\n",
      "enter a number: 10\n",
      "the sum is 55\n",
      "the average is 5.5\n"
     ]
    }
   ],
   "source": [
    "sum=0 #initialization\n",
    "n=10\n",
    "while n>0:\n",
    "    num=int(input('enter a number: '))\n",
    "    sum+=num\n",
    "    n=n-1\n",
    "print('the sum is',sum)\n",
    "print('the average is', sum/10)"
   ]
  },
  {
   "cell_type": "code",
   "execution_count": null,
   "metadata": {},
   "outputs": [],
   "source": []
  },
  {
   "attachments": {
    "image.png": {
     "image/png": "[encoded data removed]"
    }
   },
   "cell_type": "markdown",
   "metadata": {},
   "source": [
    "## Print the following patterns using loop :\n",
    "![image.png](attachment:image.png)"
   ]
  },
  {
   "cell_type": "code",
   "execution_count": 19,
   "metadata": {},
   "outputs": [
    {
     "name": "stdout",
     "output_type": "stream",
     "text": [
      " * \n",
      " *  * \n",
      " *  *  * \n",
      " *  *  *  * \n"
     ]
    }
   ],
   "source": [
    "i=1\n",
    "while i<=4:\n",
    "    print(i*' * ')\n",
    "    i+=1"
   ]
  },
  {
   "cell_type": "markdown",
   "metadata": {},
   "source": [
    "## take 5 integers from keyboard using loop and print their mulitplication on the screen"
   ]
  },
  {
   "cell_type": "code",
   "execution_count": 17,
   "metadata": {},
   "outputs": [
    {
     "name": "stdout",
     "output_type": "stream",
     "text": [
      "enter a number: 1\n",
      "enter a number: 2\n",
      "enter a number: 3\n",
      "enter a number: 4\n",
      "enter a number: 5\n",
      "the multiplication is 16\n"
     ]
    }
   ],
   "source": [
    "multiply=1 #initialization\n",
    "n=5\n",
    "while n>0:\n",
    "    num=int(input('enter a number: '))\n",
    "    multiply+=num\n",
    "    n=n-1\n",
    "print('the multiplication is', multiply)"
   ]
  },
  {
   "cell_type": "code",
   "execution_count": null,
   "metadata": {},
   "outputs": [],
   "source": []
  },
  {
   "cell_type": "markdown",
   "metadata": {},
   "source": [
    "## Write a program to display the first 7 multiples of 7.\n"
   ]
  },
  {
   "cell_type": "code",
   "execution_count": 22,
   "metadata": {},
   "outputs": [
    {
     "name": "stdout",
     "output_type": "stream",
     "text": [
      "0 7 14 21 28 35 42 49 "
     ]
    }
   ],
   "source": [
    "counter=0\n",
    "for i in range(1000):\n",
    "    if i%7==0:\n",
    "        print(i,end=' ')\n",
    "        counter+=1\n",
    "        if counter==8:\n",
    "            break"
   ]
  },
  {
   "cell_type": "code",
   "execution_count": null,
   "metadata": {},
   "outputs": [],
   "source": []
  },
  {
   "cell_type": "markdown",
   "metadata": {},
   "source": [
    "## Write a program that appends the square of each number to a new list."
   ]
  },
  {
   "cell_type": "code",
   "execution_count": 24,
   "metadata": {},
   "outputs": [
    {
     "name": "stdout",
     "output_type": "stream",
     "text": [
      "result [1, 4, 9, 16, 25]\n"
     ]
    }
   ],
   "source": [
    "x=[1,2,3,4,5]\n",
    "z=[]\n",
    "for i in range(len(x)): # i is controlling the index of the x list\n",
    "    z.append(x[i]**2)\n",
    "print('result', z)"
   ]
  },
  {
   "cell_type": "code",
   "execution_count": null,
   "metadata": {},
   "outputs": [],
   "source": []
  },
  {
   "cell_type": "markdown",
   "metadata": {},
   "source": [
    "## Separate positive and negative number from a list.\n",
    "x = [23,12,-4,23,-9,21,3,-45,-8]"
   ]
  },
  {
   "cell_type": "code",
   "execution_count": 26,
   "metadata": {},
   "outputs": [
    {
     "name": "stdout",
     "output_type": "stream",
     "text": [
      "the positive list [23, 12, 23, 21, 3]\n",
      "the negative list [-4, -9, -45, -8]\n"
     ]
    }
   ],
   "source": [
    "x = [23,12,-4,23,-9,21,3,-45,-8]\n",
    "pos=[]\n",
    "neg=[]\n",
    "for i in range(len(x)):\n",
    "     if x[i]>=0:\n",
    "         pos.append(x[i])\n",
    "     else:\n",
    "         neg.append(x[i])\n",
    "print('the positive list', pos)\n",
    "print('the negative list', neg)"
   ]
  },
  {
   "cell_type": "code",
   "execution_count": null,
   "metadata": {},
   "outputs": [],
   "source": []
  }
 ],
 "metadata": {
  "celltoolbar": "Slideshow",
  "kernelspec": {
   "display_name": "Python 3 (ipykernel)",
   "language": "python",
   "name": "python3"
  },
  "language_info": {
   "codemirror_mode": {
    "name": "ipython",
    "version": 3
   },
   "file_extension": ".py",
   "mimetype": "text/x-python",
   "name": "python",
   "nbconvert_exporter": "python",
   "pygments_lexer": "ipython3",
   "version": "3.9.13"
  }
 },
 "nbformat": 4,
 "nbformat_minor": 2
}
